{
  "nbformat": 4,
  "nbformat_minor": 0,
  "metadata": {
    "colab": {
      "name": "OSU_REU_ML_Simple_Linear_Regression.ipynb",
      "provenance": [],
      "authorship_tag": "ABX9TyOWAxfZk3JR1yAmdw36vZL6",
      "include_colab_link": true
    },
    "kernelspec": {
      "name": "python3",
      "display_name": "Python 3"
    },
    "language_info": {
      "name": "python"
    }
  },
  "cells": [
    {
      "cell_type": "markdown",
      "metadata": {
        "id": "view-in-github",
        "colab_type": "text"
      },
      "source": [
        "<a href=\"https://colab.research.google.com/github/estrickler1/Big-Data-OSU-REU/blob/main/OSU_REU_ML_Simple_Linear_Regression.ipynb\" target=\"_parent\"><img src=\"https://colab.research.google.com/assets/colab-badge.svg\" alt=\"Open In Colab\"/></a>"
      ]
    },
    {
      "cell_type": "code",
      "metadata": {
        "id": "SXpQtl7vOSNY"
      },
      "source": [
        "import numpy as np\n",
        "import matplotlib.pyplot as plt\n",
        "import pandas as pa\n",
        "from sklearn.metrics import r2_score\n",
        "from sklearn import linear_model\n",
        "url = 'https://raw.githubusercontent.com/estrickler1/Big-Data-OSU-REU/main/dat_REU.csv'\n",
        "data = pa.read_csv(url)"
      ],
      "execution_count": 6,
      "outputs": []
    },
    {
      "cell_type": "markdown",
      "metadata": {
        "id": "KDl_dEqfZmiO"
      },
      "source": [
        "Randomizer"
      ]
    },
    {
      "cell_type": "code",
      "metadata": {
        "colab": {
          "base_uri": "https://localhost:8080/",
          "height": 419
        },
        "id": "BmW2H7LbZkw4",
        "outputId": "57e35c4a-f11b-4152-bbb7-e6eb16fd530a"
      },
      "source": [
        "data = data.sample(n=len(data))                 #Randomizer\n",
        "data.columns = np.arange(len(data.columns))     #Labels Columns\n",
        "data = data.reset_index(drop=True)              #Reindexer\n",
        "data"
      ],
      "execution_count": 7,
      "outputs": [
        {
          "output_type": "execute_result",
          "data": {
            "text/html": [
              "<div>\n",
              "<style scoped>\n",
              "    .dataframe tbody tr th:only-of-type {\n",
              "        vertical-align: middle;\n",
              "    }\n",
              "\n",
              "    .dataframe tbody tr th {\n",
              "        vertical-align: top;\n",
              "    }\n",
              "\n",
              "    .dataframe thead th {\n",
              "        text-align: right;\n",
              "    }\n",
              "</style>\n",
              "<table border=\"1\" class=\"dataframe\">\n",
              "  <thead>\n",
              "    <tr style=\"text-align: right;\">\n",
              "      <th></th>\n",
              "      <th>0</th>\n",
              "      <th>1</th>\n",
              "      <th>2</th>\n",
              "      <th>3</th>\n",
              "      <th>4</th>\n",
              "      <th>5</th>\n",
              "      <th>6</th>\n",
              "      <th>7</th>\n",
              "      <th>8</th>\n",
              "      <th>9</th>\n",
              "      <th>10</th>\n",
              "      <th>11</th>\n",
              "      <th>12</th>\n",
              "      <th>13</th>\n",
              "      <th>14</th>\n",
              "      <th>15</th>\n",
              "    </tr>\n",
              "  </thead>\n",
              "  <tbody>\n",
              "    <tr>\n",
              "      <th>0</th>\n",
              "      <td>-0.66874</td>\n",
              "      <td>0.483870</td>\n",
              "      <td>0.98044</td>\n",
              "      <td>-0.52575</td>\n",
              "      <td>-0.76713</td>\n",
              "      <td>-0.51585</td>\n",
              "      <td>-0.27411</td>\n",
              "      <td>-0.75482</td>\n",
              "      <td>-0.77326</td>\n",
              "      <td>-0.56282</td>\n",
              "      <td>-0.045342</td>\n",
              "      <td>-0.18039</td>\n",
              "      <td>-0.67612</td>\n",
              "      <td>-0.76592</td>\n",
              "      <td>-0.64619</td>\n",
              "      <td>1</td>\n",
              "    </tr>\n",
              "    <tr>\n",
              "      <th>1</th>\n",
              "      <td>-0.68659</td>\n",
              "      <td>0.809830</td>\n",
              "      <td>0.88043</td>\n",
              "      <td>-0.52337</td>\n",
              "      <td>-0.78901</td>\n",
              "      <td>-0.58558</td>\n",
              "      <td>-0.42095</td>\n",
              "      <td>-0.81749</td>\n",
              "      <td>-0.77790</td>\n",
              "      <td>-0.62713</td>\n",
              "      <td>-0.315110</td>\n",
              "      <td>-0.18983</td>\n",
              "      <td>-0.73599</td>\n",
              "      <td>-0.73599</td>\n",
              "      <td>-0.70606</td>\n",
              "      <td>1</td>\n",
              "    </tr>\n",
              "    <tr>\n",
              "      <th>2</th>\n",
              "      <td>-0.60859</td>\n",
              "      <td>0.152880</td>\n",
              "      <td>0.60265</td>\n",
              "      <td>-0.49248</td>\n",
              "      <td>-0.73731</td>\n",
              "      <td>-0.41459</td>\n",
              "      <td>-0.20793</td>\n",
              "      <td>-0.82668</td>\n",
              "      <td>-0.62565</td>\n",
              "      <td>-0.39239</td>\n",
              "      <td>-0.131790</td>\n",
              "      <td>-0.31968</td>\n",
              "      <td>-0.64619</td>\n",
              "      <td>-0.70606</td>\n",
              "      <td>-0.49654</td>\n",
              "      <td>2</td>\n",
              "    </tr>\n",
              "    <tr>\n",
              "      <th>3</th>\n",
              "      <td>-0.69029</td>\n",
              "      <td>0.412280</td>\n",
              "      <td>0.91714</td>\n",
              "      <td>-0.52154</td>\n",
              "      <td>-0.76969</td>\n",
              "      <td>-0.49108</td>\n",
              "      <td>-0.34067</td>\n",
              "      <td>-0.81342</td>\n",
              "      <td>-0.78071</td>\n",
              "      <td>-0.68450</td>\n",
              "      <td>-0.197540</td>\n",
              "      <td>-0.18053</td>\n",
              "      <td>-0.73599</td>\n",
              "      <td>-0.73599</td>\n",
              "      <td>-0.67612</td>\n",
              "      <td>1</td>\n",
              "    </tr>\n",
              "    <tr>\n",
              "      <th>4</th>\n",
              "      <td>-0.69234</td>\n",
              "      <td>0.827040</td>\n",
              "      <td>0.87415</td>\n",
              "      <td>-0.49753</td>\n",
              "      <td>-0.77148</td>\n",
              "      <td>-0.49678</td>\n",
              "      <td>-0.32927</td>\n",
              "      <td>-0.77494</td>\n",
              "      <td>-0.73849</td>\n",
              "      <td>-0.55536</td>\n",
              "      <td>-0.210940</td>\n",
              "      <td>-0.18323</td>\n",
              "      <td>-0.70606</td>\n",
              "      <td>-0.76592</td>\n",
              "      <td>-0.67612</td>\n",
              "      <td>1</td>\n",
              "    </tr>\n",
              "    <tr>\n",
              "      <th>...</th>\n",
              "      <td>...</td>\n",
              "      <td>...</td>\n",
              "      <td>...</td>\n",
              "      <td>...</td>\n",
              "      <td>...</td>\n",
              "      <td>...</td>\n",
              "      <td>...</td>\n",
              "      <td>...</td>\n",
              "      <td>...</td>\n",
              "      <td>...</td>\n",
              "      <td>...</td>\n",
              "      <td>...</td>\n",
              "      <td>...</td>\n",
              "      <td>...</td>\n",
              "      <td>...</td>\n",
              "      <td>...</td>\n",
              "    </tr>\n",
              "    <tr>\n",
              "      <th>9994</th>\n",
              "      <td>-0.54289</td>\n",
              "      <td>0.073300</td>\n",
              "      <td>0.84301</td>\n",
              "      <td>-0.43805</td>\n",
              "      <td>-0.76507</td>\n",
              "      <td>-0.38504</td>\n",
              "      <td>-0.22736</td>\n",
              "      <td>-0.85470</td>\n",
              "      <td>-0.64883</td>\n",
              "      <td>-0.52474</td>\n",
              "      <td>-0.134790</td>\n",
              "      <td>-0.34755</td>\n",
              "      <td>-0.61626</td>\n",
              "      <td>-0.67612</td>\n",
              "      <td>-0.49654</td>\n",
              "      <td>2</td>\n",
              "    </tr>\n",
              "    <tr>\n",
              "      <th>9995</th>\n",
              "      <td>-0.56558</td>\n",
              "      <td>0.045507</td>\n",
              "      <td>0.72798</td>\n",
              "      <td>-0.49401</td>\n",
              "      <td>-0.74563</td>\n",
              "      <td>-0.48250</td>\n",
              "      <td>-0.21583</td>\n",
              "      <td>-0.86715</td>\n",
              "      <td>-0.66180</td>\n",
              "      <td>-0.49866</td>\n",
              "      <td>-0.131430</td>\n",
              "      <td>-0.38083</td>\n",
              "      <td>-0.58633</td>\n",
              "      <td>-0.70606</td>\n",
              "      <td>-0.49654</td>\n",
              "      <td>2</td>\n",
              "    </tr>\n",
              "    <tr>\n",
              "      <th>9996</th>\n",
              "      <td>-0.63385</td>\n",
              "      <td>0.233040</td>\n",
              "      <td>0.46357</td>\n",
              "      <td>-0.44751</td>\n",
              "      <td>-0.74704</td>\n",
              "      <td>-0.41119</td>\n",
              "      <td>-0.21989</td>\n",
              "      <td>-0.79241</td>\n",
              "      <td>-0.65087</td>\n",
              "      <td>-0.39994</td>\n",
              "      <td>-0.134750</td>\n",
              "      <td>-0.36936</td>\n",
              "      <td>-0.61626</td>\n",
              "      <td>-0.70606</td>\n",
              "      <td>-0.55640</td>\n",
              "      <td>2</td>\n",
              "    </tr>\n",
              "    <tr>\n",
              "      <th>9997</th>\n",
              "      <td>-0.67744</td>\n",
              "      <td>0.680120</td>\n",
              "      <td>0.88367</td>\n",
              "      <td>-0.52141</td>\n",
              "      <td>-0.76611</td>\n",
              "      <td>-0.63591</td>\n",
              "      <td>-0.38924</td>\n",
              "      <td>-0.79721</td>\n",
              "      <td>-0.78201</td>\n",
              "      <td>-0.64677</td>\n",
              "      <td>-0.169010</td>\n",
              "      <td>-0.20303</td>\n",
              "      <td>-0.70606</td>\n",
              "      <td>-0.73599</td>\n",
              "      <td>-0.70606</td>\n",
              "      <td>1</td>\n",
              "    </tr>\n",
              "    <tr>\n",
              "      <th>9998</th>\n",
              "      <td>-0.52792</td>\n",
              "      <td>0.263850</td>\n",
              "      <td>0.54727</td>\n",
              "      <td>-0.50346</td>\n",
              "      <td>-0.74045</td>\n",
              "      <td>-0.38767</td>\n",
              "      <td>-0.25112</td>\n",
              "      <td>-0.73381</td>\n",
              "      <td>-0.62685</td>\n",
              "      <td>-0.50859</td>\n",
              "      <td>-0.109150</td>\n",
              "      <td>-0.33090</td>\n",
              "      <td>-0.64619</td>\n",
              "      <td>-0.67612</td>\n",
              "      <td>-0.58633</td>\n",
              "      <td>2</td>\n",
              "    </tr>\n",
              "  </tbody>\n",
              "</table>\n",
              "<p>9999 rows × 16 columns</p>\n",
              "</div>"
            ],
            "text/plain": [
              "           0         1        2        3   ...       12       13       14  15\n",
              "0    -0.66874  0.483870  0.98044 -0.52575  ... -0.67612 -0.76592 -0.64619   1\n",
              "1    -0.68659  0.809830  0.88043 -0.52337  ... -0.73599 -0.73599 -0.70606   1\n",
              "2    -0.60859  0.152880  0.60265 -0.49248  ... -0.64619 -0.70606 -0.49654   2\n",
              "3    -0.69029  0.412280  0.91714 -0.52154  ... -0.73599 -0.73599 -0.67612   1\n",
              "4    -0.69234  0.827040  0.87415 -0.49753  ... -0.70606 -0.76592 -0.67612   1\n",
              "...       ...       ...      ...      ...  ...      ...      ...      ...  ..\n",
              "9994 -0.54289  0.073300  0.84301 -0.43805  ... -0.61626 -0.67612 -0.49654   2\n",
              "9995 -0.56558  0.045507  0.72798 -0.49401  ... -0.58633 -0.70606 -0.49654   2\n",
              "9996 -0.63385  0.233040  0.46357 -0.44751  ... -0.61626 -0.70606 -0.55640   2\n",
              "9997 -0.67744  0.680120  0.88367 -0.52141  ... -0.70606 -0.73599 -0.70606   1\n",
              "9998 -0.52792  0.263850  0.54727 -0.50346  ... -0.64619 -0.67612 -0.58633   2\n",
              "\n",
              "[9999 rows x 16 columns]"
            ]
          },
          "metadata": {
            "tags": []
          },
          "execution_count": 7
        }
      ]
    },
    {
      "cell_type": "markdown",
      "metadata": {
        "id": "E2z1hgzgb2mY"
      },
      "source": [
        "Divides dataset into training and testing"
      ]
    },
    {
      "cell_type": "code",
      "metadata": {
        "id": "nxbCtHzAI1LH"
      },
      "source": [
        "col=(len(data.transpose())) - 1\n",
        "dataFeaturesTrain = data.iloc[:8000,0:col]\n",
        "dataFeaturesTest = data.iloc[8000:,0:col]\n",
        "dataFeaturesTest = dataFeaturesTest.reset_index(drop=True)\n",
        "dataAnswerTrain = data.iloc[:8000,col]\n",
        "dataAnswerTest = data.iloc[8000:,col]\n",
        "dataAnswerTest = dataAnswerTest.reset_index(drop=True)"
      ],
      "execution_count": 8,
      "outputs": []
    },
    {
      "cell_type": "markdown",
      "metadata": {
        "id": "Zh6vmzoMcEvD"
      },
      "source": [
        "Trains the model"
      ]
    },
    {
      "cell_type": "code",
      "metadata": {
        "colab": {
          "base_uri": "https://localhost:8080/"
        },
        "id": "nLxkwy1RLOL3",
        "outputId": "f36871eb-ee4a-4b6b-aaf5-3ced21677899"
      },
      "source": [
        "regr = linear_model.LinearRegression()\n",
        "regr.fit(dataFeaturesTrain, dataAnswerTrain)"
      ],
      "execution_count": 9,
      "outputs": [
        {
          "output_type": "execute_result",
          "data": {
            "text/plain": [
              "LinearRegression(copy_X=True, fit_intercept=True, n_jobs=None, normalize=False)"
            ]
          },
          "metadata": {
            "tags": []
          },
          "execution_count": 9
        }
      ]
    },
    {
      "cell_type": "markdown",
      "metadata": {
        "id": "Dgf4NZVscHJi"
      },
      "source": [
        "Tests the model and determinds accuracy"
      ]
    },
    {
      "cell_type": "code",
      "metadata": {
        "colab": {
          "base_uri": "https://localhost:8080/"
        },
        "id": "GDOg8B-2WwuJ",
        "outputId": "c96767e8-a9a4-4040-b7e2-2165b9bb243c"
      },
      "source": [
        "right = 0\n",
        "wrong = 0\n",
        "accuracy = 0\n",
        "num = 0\n",
        "prediction = regr.predict(dataFeaturesTest)\n",
        "for i in range(len(prediction)):\n",
        "    num = (np.round(prediction[i]))\n",
        "    if num == dataAnswerTest[i]:\n",
        "      right = right + 1\n",
        "    else:\n",
        "      wrong = wrong + 1\n",
        "accuracy = right / (len(prediction))\n",
        "print (accuracy)"
      ],
      "execution_count": 10,
      "outputs": [
        {
          "output_type": "stream",
          "text": [
            "1.0\n"
          ],
          "name": "stdout"
        }
      ]
    },
    {
      "cell_type": "code",
      "metadata": {
        "colab": {
          "base_uri": "https://localhost:8080/",
          "height": 265
        },
        "id": "mp20h46tbiQG",
        "outputId": "f03751f0-aee6-4649-85fd-fdf1dfa617ea"
      },
      "source": [
        "for i in range(col-1):\n",
        "  plt.scatter(data.iloc[:,i],data.iloc[:,col])"
      ],
      "execution_count": 11,
      "outputs": [
        {
          "output_type": "display_data",
          "data": {
            "image/png": "[encoded data removed]",
            "text/plain": [
              "<Figure size 432x288 with 1 Axes>"
            ]
          },
          "metadata": {
            "tags": [],
            "needs_background": "light"
          }
        }
      ]
    },
    {
      "cell_type": "code",
      "metadata": {
        "colab": {
          "base_uri": "https://localhost:8080/",
          "height": 265
        },
        "id": "pne51wCFdHCw",
        "outputId": "bbf04699-38c6-4172-b010-ce36f5dc0a10"
      },
      "source": [
        "for i in range(col-1):\n",
        "  plt.hist(data.iloc[:,i])"
      ],
      "execution_count": 12,
      "outputs": [
        {
          "output_type": "display_data",
          "data": {
            "image/png": "[encoded data removed]",
            "text/plain": [
              "<Figure size 432x288 with 1 Axes>"
            ]
          },
          "metadata": {
            "tags": [],
            "needs_background": "light"
          }
        }
      ]
    },
    {
      "cell_type": "markdown",
      "metadata": {
        "id": "ol_QXdS9WiNn"
      },
      "source": [
        "Finds the average for every entire row, apart from last column."
      ]
    },
    {
      "cell_type": "code",
      "metadata": {
        "id": "ObeRkd1fUYg8"
      },
      "source": [
        "avgNum = []\n",
        "sum = 0\n",
        "for j in range(len(data)):\n",
        "  for i in range(col-1):\n",
        "      if i == 0:\n",
        "        sum = data.iloc[j,i]\n",
        "      elif i == col:\n",
        "        sum = (sum + data.iloc[j,i]) / len(col)\n",
        "      else:\n",
        "        sum = sum + data.iloc[j,i]\n",
        "  avgNum.append(sum)"
      ],
      "execution_count": 13,
      "outputs": []
    },
    {
      "cell_type": "code",
      "metadata": {
        "colab": {
          "base_uri": "https://localhost:8080/",
          "height": 282
        },
        "id": "x3uX9KMWWqmS",
        "outputId": "0e2f322c-6f39-4892-ada7-816406a99b01"
      },
      "source": [
        "plt.scatter(avgNum,data.iloc[:,col])"
      ],
      "execution_count": 14,
      "outputs": [
        {
          "output_type": "execute_result",
          "data": {
            "text/plain": [
              "<matplotlib.collections.PathCollection at 0x7ff993f22350>"
            ]
          },
          "metadata": {
            "tags": []
          },
          "execution_count": 14
        },
        {
          "output_type": "display_data",
          "data": {
            "image/png": "[encoded data removed]",
            "text/plain": [
              "<Figure size 432x288 with 1 Axes>"
            ]
          },
          "metadata": {
            "tags": [],
            "needs_background": "light"
          }
        }
      ]
    }
  ]
}