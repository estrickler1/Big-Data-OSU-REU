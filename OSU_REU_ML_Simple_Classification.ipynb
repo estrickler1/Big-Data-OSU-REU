{
  "nbformat": 4,
  "nbformat_minor": 0,
  "metadata": {
    "colab": {
      "name": "OSU_REU_ML_Simple_Classification.ipynb",
      "provenance": [],
      "authorship_tag": "ABX9TyPZ5TFkiZw3RZoI7Ltr8dJQ",
      "include_colab_link": true
    },
    "kernelspec": {
      "name": "python3",
      "display_name": "Python 3"
    },
    "language_info": {
      "name": "python"
    }
  },
  "cells": [
    {
      "cell_type": "markdown",
      "metadata": {
        "id": "view-in-github",
        "colab_type": "text"
      },
      "source": [
        "<a href=\"https://colab.research.google.com/github/estrickler1/Big-Data-OSU-REU/blob/main/OSU_REU_ML_Simple_Classification.ipynb\" target=\"_parent\"><img src=\"https://colab.research.google.com/assets/colab-badge.svg\" alt=\"Open In Colab\"/></a>"
      ]
    },
    {
      "cell_type": "code",
      "metadata": {
        "colab": {
          "base_uri": "https://localhost:8080/"
        },
        "id": "EQzTRF1PecS2",
        "outputId": "5ba315a5-17a3-43e4-eccb-5e28ad8b04d3"
      },
      "source": [
        "import pandas as pa\n",
        "from sklearn.model_selection import train_test_split\n",
        "from sklearn.naive_bayes import GaussianNB\n",
        "from sklearn.metrics import accuracy_score\n",
        "url = 'https://raw.githubusercontent.com/estrickler1/Big-Data-OSU-REU/main/dat_REU.csv'\n",
        "data = pa.read_csv(url)\n",
        "\n",
        "col=(len(data.transpose())) - 1\n",
        "features = data.iloc[:,0:col]\n",
        "labels = data.iloc[:,col]\n",
        "train, test, train_labels, test_labels = train_test_split(features,\n",
        "                                                          labels,\n",
        "                                                          test_size=0.2,\n",
        "                                                          random_state=42)\n",
        "\n",
        "#Initialize our classifier\n",
        "gaussian = GaussianNB()\n",
        "\n",
        "#Train the classifier\n",
        "model = gaussian.fit(train, train_labels)\n",
        "\n",
        "#Model makes predictions\n",
        "preds = gaussian.predict(test)\n",
        "print(preds)\n",
        "\n",
        "#Evaluate model's accuracy\n",
        "print(accuracy_score(test_labels, preds))"
      ],
      "execution_count": 2,
      "outputs": [
        {
          "output_type": "stream",
          "text": [
            "[1 2 2 ... 1 1 1]\n",
            "1.0\n"
          ],
          "name": "stdout"
        }
      ]
    }
  ]
}